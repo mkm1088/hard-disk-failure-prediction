{
  "nbformat": 4,
  "nbformat_minor": 0,
  "metadata": {
    "colab": {
      "name": "problem-xgboost.ipynb",
      "version": "0.3.2",
      "provenance": []
    },
    "language_info": {
      "codemirror_mode": {
        "name": "ipython",
        "version": 3
      },
      "file_extension": ".py",
      "mimetype": "text/x-python",
      "name": "python",
      "nbconvert_exporter": "python",
      "pygments_lexer": "ipython3",
      "version": "3.7.3"
    },
    "kernelspec": {
      "display_name": "Python 3",
      "language": "python",
      "name": "python3"
    }
  },
  "cells": [
    {
      "cell_type": "code",
      "metadata": {
        "id": "EfhYInLOiAdW",
        "colab_type": "code",
        "colab": {}
      },
      "source": [
        "from numpy import loadtxt\n",
        "from xgboost import XGBClassifier\n",
        "from sklearn.model_selection import train_test_split\n",
        "from sklearn.metrics import accuracy_score\n",
        "from sklearn.metrics import classification_report"
      ],
      "execution_count": 0,
      "outputs": []
    },
    {
      "cell_type": "code",
      "metadata": {
        "id": "h1G-bS81iAdd",
        "colab_type": "code",
        "colab": {}
      },
      "source": [
        "# load data\n",
        "import pandas as pd\n",
        "dataset = pd.read_csv('modeldata.csv', sep ='|')"
      ],
      "execution_count": 0,
      "outputs": []
    },
    {
      "cell_type": "code",
      "metadata": {
        "id": "2bNrVaRsiAdj",
        "colab_type": "code",
        "colab": {
          "base_uri": "https://localhost:8080/",
          "height": 34
        },
        "outputId": "c9cfb10e-c9d9-4402-868d-ab695eb29bb5"
      },
      "source": [
        "dataset.shape"
      ],
      "execution_count": 3,
      "outputs": [
        {
          "output_type": "execute_result",
          "data": {
            "text/plain": [
              "(132224, 21)"
            ]
          },
          "metadata": {
            "tags": []
          },
          "execution_count": 3
        }
      ]
    },
    {
      "cell_type": "code",
      "metadata": {
        "id": "D8CsETybjBNW",
        "colab_type": "code",
        "colab": {
          "base_uri": "https://localhost:8080/",
          "height": 309
        },
        "outputId": "00c9f505-efb6-4378-fac1-b28db7373b64"
      },
      "source": [
        "dataset.head()"
      ],
      "execution_count": 4,
      "outputs": [
        {
          "output_type": "execute_result",
          "data": {
            "text/html": [
              "<div>\n",
              "<style scoped>\n",
              "    .dataframe tbody tr th:only-of-type {\n",
              "        vertical-align: middle;\n",
              "    }\n",
              "\n",
              "    .dataframe tbody tr th {\n",
              "        vertical-align: top;\n",
              "    }\n",
              "\n",
              "    .dataframe thead th {\n",
              "        text-align: right;\n",
              "    }\n",
              "</style>\n",
              "<table border=\"1\" class=\"dataframe\">\n",
              "  <thead>\n",
              "    <tr style=\"text-align: right;\">\n",
              "      <th></th>\n",
              "      <th>failure</th>\n",
              "      <th>model</th>\n",
              "      <th>date</th>\n",
              "      <th>serial_number</th>\n",
              "      <th>smart_1_raw</th>\n",
              "      <th>smart_2_raw</th>\n",
              "      <th>smart_3_raw</th>\n",
              "      <th>smart_4_raw</th>\n",
              "      <th>smart_5_raw</th>\n",
              "      <th>smart_7_raw</th>\n",
              "      <th>smart_8_raw</th>\n",
              "      <th>smart_9_raw</th>\n",
              "      <th>smart_10_raw</th>\n",
              "      <th>smart_11_raw</th>\n",
              "      <th>smart_12_raw</th>\n",
              "      <th>smart_13_raw</th>\n",
              "      <th>smart_15_raw</th>\n",
              "      <th>smart_22_raw</th>\n",
              "      <th>smart_16_raw</th>\n",
              "      <th>smart_17_raw</th>\n",
              "      <th>smart_18_raw</th>\n",
              "    </tr>\n",
              "  </thead>\n",
              "  <tbody>\n",
              "    <tr>\n",
              "      <th>0</th>\n",
              "      <td>0</td>\n",
              "      <td>Hitachi HDS5C3030ALA630</td>\n",
              "      <td>2016-01-01</td>\n",
              "      <td>MJ0351YNG9Z0XA</td>\n",
              "      <td>0</td>\n",
              "      <td>108</td>\n",
              "      <td>540</td>\n",
              "      <td>14</td>\n",
              "      <td>0.0</td>\n",
              "      <td>0.000000e+00</td>\n",
              "      <td>37</td>\n",
              "      <td>27929</td>\n",
              "      <td>0</td>\n",
              "      <td>0</td>\n",
              "      <td>14</td>\n",
              "      <td>0</td>\n",
              "      <td>0</td>\n",
              "      <td>0</td>\n",
              "      <td>5</td>\n",
              "      <td>0</td>\n",
              "      <td>654690</td>\n",
              "    </tr>\n",
              "    <tr>\n",
              "      <th>1</th>\n",
              "      <td>0</td>\n",
              "      <td>Hitachi HDS5C3030ALA630</td>\n",
              "      <td>2016-01-01</td>\n",
              "      <td>MJ0351YNG9Z0XA</td>\n",
              "      <td>0</td>\n",
              "      <td>108</td>\n",
              "      <td>540</td>\n",
              "      <td>14</td>\n",
              "      <td>0.0</td>\n",
              "      <td>0.000000e+00</td>\n",
              "      <td>37</td>\n",
              "      <td>27929</td>\n",
              "      <td>0</td>\n",
              "      <td>0</td>\n",
              "      <td>14</td>\n",
              "      <td>0</td>\n",
              "      <td>0</td>\n",
              "      <td>0</td>\n",
              "      <td>5</td>\n",
              "      <td>0</td>\n",
              "      <td>654690</td>\n",
              "    </tr>\n",
              "    <tr>\n",
              "      <th>2</th>\n",
              "      <td>0</td>\n",
              "      <td>ST4000DM000</td>\n",
              "      <td>2016-01-01</td>\n",
              "      <td>Z305B2QN</td>\n",
              "      <td>54551400</td>\n",
              "      <td>0</td>\n",
              "      <td>0</td>\n",
              "      <td>4</td>\n",
              "      <td>0.0</td>\n",
              "      <td>1.112537e-308</td>\n",
              "      <td>0</td>\n",
              "      <td>411</td>\n",
              "      <td>0</td>\n",
              "      <td>0</td>\n",
              "      <td>4</td>\n",
              "      <td>0</td>\n",
              "      <td>0</td>\n",
              "      <td>0</td>\n",
              "      <td>4</td>\n",
              "      <td>0</td>\n",
              "      <td>654313</td>\n",
              "    </tr>\n",
              "    <tr>\n",
              "      <th>3</th>\n",
              "      <td>0</td>\n",
              "      <td>ST4000DM000</td>\n",
              "      <td>2016-01-01</td>\n",
              "      <td>Z305B2QN</td>\n",
              "      <td>54551400</td>\n",
              "      <td>0</td>\n",
              "      <td>0</td>\n",
              "      <td>4</td>\n",
              "      <td>0.0</td>\n",
              "      <td>1.112537e-308</td>\n",
              "      <td>0</td>\n",
              "      <td>411</td>\n",
              "      <td>0</td>\n",
              "      <td>0</td>\n",
              "      <td>4</td>\n",
              "      <td>0</td>\n",
              "      <td>0</td>\n",
              "      <td>0</td>\n",
              "      <td>4</td>\n",
              "      <td>0</td>\n",
              "      <td>654313</td>\n",
              "    </tr>\n",
              "    <tr>\n",
              "      <th>4</th>\n",
              "      <td>0</td>\n",
              "      <td>Hitachi HDS5C3030ALA630</td>\n",
              "      <td>2016-01-01</td>\n",
              "      <td>MJ0351YNG9Z7LA</td>\n",
              "      <td>0</td>\n",
              "      <td>104</td>\n",
              "      <td>566</td>\n",
              "      <td>19</td>\n",
              "      <td>0.0</td>\n",
              "      <td>0.000000e+00</td>\n",
              "      <td>37</td>\n",
              "      <td>27492</td>\n",
              "      <td>0</td>\n",
              "      <td>0</td>\n",
              "      <td>18</td>\n",
              "      <td>0</td>\n",
              "      <td>0</td>\n",
              "      <td>0</td>\n",
              "      <td>8</td>\n",
              "      <td>1</td>\n",
              "      <td>655582</td>\n",
              "    </tr>\n",
              "  </tbody>\n",
              "</table>\n",
              "</div>"
            ],
            "text/plain": [
              "   failure                    model  ... smart_17_raw smart_18_raw\n",
              "0        0  Hitachi HDS5C3030ALA630  ...            0       654690\n",
              "1        0  Hitachi HDS5C3030ALA630  ...            0       654690\n",
              "2        0              ST4000DM000  ...            0       654313\n",
              "3        0              ST4000DM000  ...            0       654313\n",
              "4        0  Hitachi HDS5C3030ALA630  ...            1       655582\n",
              "\n",
              "[5 rows x 21 columns]"
            ]
          },
          "metadata": {
            "tags": []
          },
          "execution_count": 4
        }
      ]
    },
    {
      "cell_type": "code",
      "metadata": {
        "id": "WTlzRednmOsB",
        "colab_type": "code",
        "colab": {
          "base_uri": "https://localhost:8080/",
          "height": 385
        },
        "outputId": "d304b094-4dc5-4b05-9e04-0f82cc0c6dc5"
      },
      "source": [
        "dataset.describe()\n"
      ],
      "execution_count": 5,
      "outputs": [
        {
          "output_type": "execute_result",
          "data": {
            "text/html": [
              "<div>\n",
              "<style scoped>\n",
              "    .dataframe tbody tr th:only-of-type {\n",
              "        vertical-align: middle;\n",
              "    }\n",
              "\n",
              "    .dataframe tbody tr th {\n",
              "        vertical-align: top;\n",
              "    }\n",
              "\n",
              "    .dataframe thead th {\n",
              "        text-align: right;\n",
              "    }\n",
              "</style>\n",
              "<table border=\"1\" class=\"dataframe\">\n",
              "  <thead>\n",
              "    <tr style=\"text-align: right;\">\n",
              "      <th></th>\n",
              "      <th>failure</th>\n",
              "      <th>smart_1_raw</th>\n",
              "      <th>smart_2_raw</th>\n",
              "      <th>smart_3_raw</th>\n",
              "      <th>smart_4_raw</th>\n",
              "      <th>smart_5_raw</th>\n",
              "      <th>smart_7_raw</th>\n",
              "      <th>smart_8_raw</th>\n",
              "      <th>smart_9_raw</th>\n",
              "      <th>smart_10_raw</th>\n",
              "      <th>smart_11_raw</th>\n",
              "      <th>smart_12_raw</th>\n",
              "      <th>smart_13_raw</th>\n",
              "      <th>smart_15_raw</th>\n",
              "      <th>smart_22_raw</th>\n",
              "      <th>smart_16_raw</th>\n",
              "      <th>smart_17_raw</th>\n",
              "      <th>smart_18_raw</th>\n",
              "    </tr>\n",
              "  </thead>\n",
              "  <tbody>\n",
              "    <tr>\n",
              "      <th>count</th>\n",
              "      <td>132224.000000</td>\n",
              "      <td>1.322240e+05</td>\n",
              "      <td>132224.000000</td>\n",
              "      <td>132224.000000</td>\n",
              "      <td>132224.000000</td>\n",
              "      <td>132224.000000</td>\n",
              "      <td>1.322240e+05</td>\n",
              "      <td>132224.000000</td>\n",
              "      <td>132224.000000</td>\n",
              "      <td>132224.000000</td>\n",
              "      <td>132224.000000</td>\n",
              "      <td>132224.000000</td>\n",
              "      <td>132224.000000</td>\n",
              "      <td>132224.0</td>\n",
              "      <td>132224.000000</td>\n",
              "      <td>132224.000000</td>\n",
              "      <td>132224.000000</td>\n",
              "      <td>132224.000000</td>\n",
              "    </tr>\n",
              "    <tr>\n",
              "      <th>mean</th>\n",
              "      <td>0.001550</td>\n",
              "      <td>6.659245e+07</td>\n",
              "      <td>29.334440</td>\n",
              "      <td>365.021464</td>\n",
              "      <td>12.895775</td>\n",
              "      <td>1.777308</td>\n",
              "      <td>6.364643e-309</td>\n",
              "      <td>11.477251</td>\n",
              "      <td>13977.033534</td>\n",
              "      <td>25.279148</td>\n",
              "      <td>1.430799</td>\n",
              "      <td>10.809762</td>\n",
              "      <td>0.017954</td>\n",
              "      <td>0.0</td>\n",
              "      <td>0.068066</td>\n",
              "      <td>5.003880</td>\n",
              "      <td>0.500325</td>\n",
              "      <td>654653.148967</td>\n",
              "    </tr>\n",
              "    <tr>\n",
              "      <th>std</th>\n",
              "      <td>0.039345</td>\n",
              "      <td>7.854000e+07</td>\n",
              "      <td>46.351744</td>\n",
              "      <td>1110.234771</td>\n",
              "      <td>129.620630</td>\n",
              "      <td>101.781610</td>\n",
              "      <td>0.000000e+00</td>\n",
              "      <td>18.243676</td>\n",
              "      <td>12881.877410</td>\n",
              "      <td>2715.317011</td>\n",
              "      <td>29.045568</td>\n",
              "      <td>47.730764</td>\n",
              "      <td>4.616458</td>\n",
              "      <td>0.0</td>\n",
              "      <td>2.608074</td>\n",
              "      <td>2.242782</td>\n",
              "      <td>0.706521</td>\n",
              "      <td>808.244362</td>\n",
              "    </tr>\n",
              "    <tr>\n",
              "      <th>min</th>\n",
              "      <td>0.000000</td>\n",
              "      <td>0.000000e+00</td>\n",
              "      <td>0.000000</td>\n",
              "      <td>0.000000</td>\n",
              "      <td>1.000000</td>\n",
              "      <td>-29.233785</td>\n",
              "      <td>0.000000e+00</td>\n",
              "      <td>0.000000</td>\n",
              "      <td>4.000000</td>\n",
              "      <td>0.000000</td>\n",
              "      <td>0.000000</td>\n",
              "      <td>0.000000</td>\n",
              "      <td>0.000000</td>\n",
              "      <td>0.0</td>\n",
              "      <td>0.000000</td>\n",
              "      <td>0.000000</td>\n",
              "      <td>0.000000</td>\n",
              "      <td>651309.000000</td>\n",
              "    </tr>\n",
              "    <tr>\n",
              "      <th>25%</th>\n",
              "      <td>0.000000</td>\n",
              "      <td>0.000000e+00</td>\n",
              "      <td>0.000000</td>\n",
              "      <td>0.000000</td>\n",
              "      <td>3.000000</td>\n",
              "      <td>0.000000</td>\n",
              "      <td>0.000000e+00</td>\n",
              "      <td>0.000000</td>\n",
              "      <td>2702.000000</td>\n",
              "      <td>0.000000</td>\n",
              "      <td>0.000000</td>\n",
              "      <td>3.000000</td>\n",
              "      <td>0.000000</td>\n",
              "      <td>0.0</td>\n",
              "      <td>0.000000</td>\n",
              "      <td>3.000000</td>\n",
              "      <td>0.000000</td>\n",
              "      <td>654110.000000</td>\n",
              "    </tr>\n",
              "    <tr>\n",
              "      <th>50%</th>\n",
              "      <td>0.000000</td>\n",
              "      <td>3.144133e+07</td>\n",
              "      <td>0.000000</td>\n",
              "      <td>0.000000</td>\n",
              "      <td>6.000000</td>\n",
              "      <td>0.000000</td>\n",
              "      <td>1.112537e-308</td>\n",
              "      <td>0.000000</td>\n",
              "      <td>11579.000000</td>\n",
              "      <td>0.000000</td>\n",
              "      <td>0.000000</td>\n",
              "      <td>6.000000</td>\n",
              "      <td>0.000000</td>\n",
              "      <td>0.0</td>\n",
              "      <td>0.000000</td>\n",
              "      <td>5.000000</td>\n",
              "      <td>0.000000</td>\n",
              "      <td>654653.000000</td>\n",
              "    </tr>\n",
              "    <tr>\n",
              "      <th>75%</th>\n",
              "      <td>0.000000</td>\n",
              "      <td>1.272630e+08</td>\n",
              "      <td>99.000000</td>\n",
              "      <td>520.000000</td>\n",
              "      <td>15.000000</td>\n",
              "      <td>0.000000</td>\n",
              "      <td>1.112537e-308</td>\n",
              "      <td>37.000000</td>\n",
              "      <td>20241.000000</td>\n",
              "      <td>0.000000</td>\n",
              "      <td>0.000000</td>\n",
              "      <td>14.000000</td>\n",
              "      <td>0.000000</td>\n",
              "      <td>0.0</td>\n",
              "      <td>0.000000</td>\n",
              "      <td>6.000000</td>\n",
              "      <td>1.000000</td>\n",
              "      <td>655198.000000</td>\n",
              "    </tr>\n",
              "    <tr>\n",
              "      <th>max</th>\n",
              "      <td>1.000000</td>\n",
              "      <td>8.798246e+08</td>\n",
              "      <td>196.000000</td>\n",
              "      <td>9683.000000</td>\n",
              "      <td>26674.000000</td>\n",
              "      <td>16096.000000</td>\n",
              "      <td>1.182070e-308</td>\n",
              "      <td>68.000000</td>\n",
              "      <td>88679.000000</td>\n",
              "      <td>393216.000000</td>\n",
              "      <td>5416.000000</td>\n",
              "      <td>16415.000000</td>\n",
              "      <td>1187.000000</td>\n",
              "      <td>0.0</td>\n",
              "      <td>100.000000</td>\n",
              "      <td>17.000000</td>\n",
              "      <td>5.000000</td>\n",
              "      <td>658153.000000</td>\n",
              "    </tr>\n",
              "  </tbody>\n",
              "</table>\n",
              "</div>"
            ],
            "text/plain": [
              "             failure   smart_1_raw  ...   smart_17_raw   smart_18_raw\n",
              "count  132224.000000  1.322240e+05  ...  132224.000000  132224.000000\n",
              "mean        0.001550  6.659245e+07  ...       0.500325  654653.148967\n",
              "std         0.039345  7.854000e+07  ...       0.706521     808.244362\n",
              "min         0.000000  0.000000e+00  ...       0.000000  651309.000000\n",
              "25%         0.000000  0.000000e+00  ...       0.000000  654110.000000\n",
              "50%         0.000000  3.144133e+07  ...       0.000000  654653.000000\n",
              "75%         0.000000  1.272630e+08  ...       1.000000  655198.000000\n",
              "max         1.000000  8.798246e+08  ...       5.000000  658153.000000\n",
              "\n",
              "[8 rows x 18 columns]"
            ]
          },
          "metadata": {
            "tags": []
          },
          "execution_count": 5
        }
      ]
    },
    {
      "cell_type": "markdown",
      "metadata": {
        "id": "nHHaFjhqpqe0",
        "colab_type": "text"
      },
      "source": [
        "#The data has lot of outliers; but real data can also be messy in the same way; it's better to choose an algo that is robust to algo than removing them as better algo's are available these days"
      ]
    },
    {
      "cell_type": "code",
      "metadata": {
        "id": "GVSySuspml_C",
        "colab_type": "code",
        "colab": {
          "base_uri": "https://localhost:8080/",
          "height": 459
        },
        "outputId": "117db30f-8cba-4816-93ea-09df1e581366"
      },
      "source": [
        "dataset.info()\n"
      ],
      "execution_count": 6,
      "outputs": [
        {
          "output_type": "stream",
          "text": [
            "<class 'pandas.core.frame.DataFrame'>\n",
            "RangeIndex: 132224 entries, 0 to 132223\n",
            "Data columns (total 21 columns):\n",
            "failure          132224 non-null int64\n",
            "model            132224 non-null object\n",
            "date             132224 non-null object\n",
            "serial_number    132224 non-null object\n",
            "smart_1_raw      132224 non-null int64\n",
            "smart_2_raw      132224 non-null int64\n",
            "smart_3_raw      132224 non-null int64\n",
            "smart_4_raw      132224 non-null int64\n",
            "smart_5_raw      132224 non-null float64\n",
            "smart_7_raw      132224 non-null float64\n",
            "smart_8_raw      132224 non-null int64\n",
            "smart_9_raw      132224 non-null int64\n",
            "smart_10_raw     132224 non-null int64\n",
            "smart_11_raw     132224 non-null int64\n",
            "smart_12_raw     132224 non-null int64\n",
            "smart_13_raw     132224 non-null int64\n",
            "smart_15_raw     132224 non-null int64\n",
            "smart_22_raw     132224 non-null int64\n",
            "smart_16_raw     132224 non-null int64\n",
            "smart_17_raw     132224 non-null int64\n",
            "smart_18_raw     132224 non-null int64\n",
            "dtypes: float64(2), int64(16), object(3)\n",
            "memory usage: 21.2+ MB\n"
          ],
          "name": "stdout"
        }
      ]
    },
    {
      "cell_type": "markdown",
      "metadata": {
        "id": "_q33pA4mp2si",
        "colab_type": "text"
      },
      "source": [
        "##no missing values"
      ]
    },
    {
      "cell_type": "code",
      "metadata": {
        "id": "f-8-0PGYmvQ_",
        "colab_type": "code",
        "colab": {
          "base_uri": "https://localhost:8080/",
          "height": 119
        },
        "outputId": "71c3790b-f3dc-490d-c903-89265f7c4b6a"
      },
      "source": [
        "dataset.columns"
      ],
      "execution_count": 7,
      "outputs": [
        {
          "output_type": "execute_result",
          "data": {
            "text/plain": [
              "Index(['failure', 'model', 'date', 'serial_number', 'smart_1_raw',\n",
              "       'smart_2_raw', 'smart_3_raw', 'smart_4_raw', 'smart_5_raw',\n",
              "       'smart_7_raw', 'smart_8_raw', 'smart_9_raw', 'smart_10_raw',\n",
              "       'smart_11_raw', 'smart_12_raw', 'smart_13_raw', 'smart_15_raw',\n",
              "       'smart_22_raw', 'smart_16_raw', 'smart_17_raw', 'smart_18_raw'],\n",
              "      dtype='object')"
            ]
          },
          "metadata": {
            "tags": []
          },
          "execution_count": 7
        }
      ]
    },
    {
      "cell_type": "code",
      "metadata": {
        "id": "vjiD91T6nJxh",
        "colab_type": "code",
        "colab": {
          "base_uri": "https://localhost:8080/",
          "height": 520
        },
        "outputId": "b3db14d1-fb86-4b5e-a3c4-e0304345bae8"
      },
      "source": [
        "import seaborn as sns\n",
        "import matplotlib.pyplot as plt\n",
        "fig, ax = plt.subplots()\n",
        "fig.set_size_inches(20, 8)\n",
        "sns.countplot(x = 'failure', data = dataset)\n",
        "ax.set_xlabel('Target variable', fontsize=15)\n",
        "ax.set_ylabel('Count', fontsize=15)\n",
        "ax.set_title('Count Distribution', fontsize=15)\n",
        "sns.despine()\n",
        "\n"
      ],
      "execution_count": 8,
      "outputs": [
        {
          "output_type": "display_data",
          "data": {
            "image/png": "[encoded data removed]",
            "text/plain": [
              "<Figure size 1440x576 with 1 Axes>"
            ]
          },
          "metadata": {
            "tags": []
          }
        }
      ]
    },
    {
      "cell_type": "code",
      "metadata": {
        "id": "RgCqPyiBv4QH",
        "colab_type": "code",
        "colab": {
          "base_uri": "https://localhost:8080/",
          "height": 540
        },
        "outputId": "34e658cf-d963-4a14-ef97-4ac0bf0f60d4"
      },
      "source": [
        "import seaborn as sns\n",
        "import matplotlib.pyplot as plt\n",
        "fig, ax = plt.subplots()\n",
        "fig.set_size_inches(200, 8)\n",
        "sns.countplot(x = 'model', data = dataset)\n",
        "ax.set_xlabel('dependent variable', fontsize=15)\n",
        "ax.set_ylabel('Count', fontsize=15)\n",
        "ax.set_title('Count Distribution', fontsize=15)\n",
        "sns.despine()\n",
        "\n"
      ],
      "execution_count": 9,
      "outputs": [
        {
          "output_type": "display_data",
          "data": {
            "image/png": "[encoded data removed]",
            "text/plain": [
              "<Figure size 14400x576 with 1 Axes>"
            ]
          },
          "metadata": {
            "tags": []
          }
        }
      ]
    },
    {
      "cell_type": "markdown",
      "metadata": {
        "id": "Q87vKFaendaF",
        "colab_type": "text"
      },
      "source": [
        "**The above plot shows that data is highly imbalanced and skewed**\n",
        "\n",
        "#if we closely look at the data, we can feature engineer to remove categorical columns as they contain the duplicate information and this information can be gained by the model from other dependent variables. "
      ]
    },
    {
      "cell_type": "code",
      "metadata": {
        "id": "h_R-7bGciAdt",
        "colab_type": "code",
        "colab": {}
      },
      "source": [
        "# split data into X and y\n",
        "X = dataset.iloc[:,4:21] \n",
        "Y = dataset.iloc[:,0]"
      ],
      "execution_count": 0,
      "outputs": []
    },
    {
      "cell_type": "code",
      "metadata": {
        "id": "EAMPtfUQmVJI",
        "colab_type": "code",
        "colab": {
          "base_uri": "https://localhost:8080/",
          "height": 258
        },
        "outputId": "6439e841-fdb0-4fe8-827d-a1066e4f41a0"
      },
      "source": [
        "X.head()"
      ],
      "execution_count": 11,
      "outputs": [
        {
          "output_type": "execute_result",
          "data": {
            "text/html": [
              "<div>\n",
              "<style scoped>\n",
              "    .dataframe tbody tr th:only-of-type {\n",
              "        vertical-align: middle;\n",
              "    }\n",
              "\n",
              "    .dataframe tbody tr th {\n",
              "        vertical-align: top;\n",
              "    }\n",
              "\n",
              "    .dataframe thead th {\n",
              "        text-align: right;\n",
              "    }\n",
              "</style>\n",
              "<table border=\"1\" class=\"dataframe\">\n",
              "  <thead>\n",
              "    <tr style=\"text-align: right;\">\n",
              "      <th></th>\n",
              "      <th>smart_1_raw</th>\n",
              "      <th>smart_2_raw</th>\n",
              "      <th>smart_3_raw</th>\n",
              "      <th>smart_4_raw</th>\n",
              "      <th>smart_5_raw</th>\n",
              "      <th>smart_7_raw</th>\n",
              "      <th>smart_8_raw</th>\n",
              "      <th>smart_9_raw</th>\n",
              "      <th>smart_10_raw</th>\n",
              "      <th>smart_11_raw</th>\n",
              "      <th>smart_12_raw</th>\n",
              "      <th>smart_13_raw</th>\n",
              "      <th>smart_15_raw</th>\n",
              "      <th>smart_22_raw</th>\n",
              "      <th>smart_16_raw</th>\n",
              "      <th>smart_17_raw</th>\n",
              "      <th>smart_18_raw</th>\n",
              "    </tr>\n",
              "  </thead>\n",
              "  <tbody>\n",
              "    <tr>\n",
              "      <th>0</th>\n",
              "      <td>0</td>\n",
              "      <td>108</td>\n",
              "      <td>540</td>\n",
              "      <td>14</td>\n",
              "      <td>0.0</td>\n",
              "      <td>0.000000e+00</td>\n",
              "      <td>37</td>\n",
              "      <td>27929</td>\n",
              "      <td>0</td>\n",
              "      <td>0</td>\n",
              "      <td>14</td>\n",
              "      <td>0</td>\n",
              "      <td>0</td>\n",
              "      <td>0</td>\n",
              "      <td>5</td>\n",
              "      <td>0</td>\n",
              "      <td>654690</td>\n",
              "    </tr>\n",
              "    <tr>\n",
              "      <th>1</th>\n",
              "      <td>0</td>\n",
              "      <td>108</td>\n",
              "      <td>540</td>\n",
              "      <td>14</td>\n",
              "      <td>0.0</td>\n",
              "      <td>0.000000e+00</td>\n",
              "      <td>37</td>\n",
              "      <td>27929</td>\n",
              "      <td>0</td>\n",
              "      <td>0</td>\n",
              "      <td>14</td>\n",
              "      <td>0</td>\n",
              "      <td>0</td>\n",
              "      <td>0</td>\n",
              "      <td>5</td>\n",
              "      <td>0</td>\n",
              "      <td>654690</td>\n",
              "    </tr>\n",
              "    <tr>\n",
              "      <th>2</th>\n",
              "      <td>54551400</td>\n",
              "      <td>0</td>\n",
              "      <td>0</td>\n",
              "      <td>4</td>\n",
              "      <td>0.0</td>\n",
              "      <td>1.112537e-308</td>\n",
              "      <td>0</td>\n",
              "      <td>411</td>\n",
              "      <td>0</td>\n",
              "      <td>0</td>\n",
              "      <td>4</td>\n",
              "      <td>0</td>\n",
              "      <td>0</td>\n",
              "      <td>0</td>\n",
              "      <td>4</td>\n",
              "      <td>0</td>\n",
              "      <td>654313</td>\n",
              "    </tr>\n",
              "    <tr>\n",
              "      <th>3</th>\n",
              "      <td>54551400</td>\n",
              "      <td>0</td>\n",
              "      <td>0</td>\n",
              "      <td>4</td>\n",
              "      <td>0.0</td>\n",
              "      <td>1.112537e-308</td>\n",
              "      <td>0</td>\n",
              "      <td>411</td>\n",
              "      <td>0</td>\n",
              "      <td>0</td>\n",
              "      <td>4</td>\n",
              "      <td>0</td>\n",
              "      <td>0</td>\n",
              "      <td>0</td>\n",
              "      <td>4</td>\n",
              "      <td>0</td>\n",
              "      <td>654313</td>\n",
              "    </tr>\n",
              "    <tr>\n",
              "      <th>4</th>\n",
              "      <td>0</td>\n",
              "      <td>104</td>\n",
              "      <td>566</td>\n",
              "      <td>19</td>\n",
              "      <td>0.0</td>\n",
              "      <td>0.000000e+00</td>\n",
              "      <td>37</td>\n",
              "      <td>27492</td>\n",
              "      <td>0</td>\n",
              "      <td>0</td>\n",
              "      <td>18</td>\n",
              "      <td>0</td>\n",
              "      <td>0</td>\n",
              "      <td>0</td>\n",
              "      <td>8</td>\n",
              "      <td>1</td>\n",
              "      <td>655582</td>\n",
              "    </tr>\n",
              "  </tbody>\n",
              "</table>\n",
              "</div>"
            ],
            "text/plain": [
              "   smart_1_raw  smart_2_raw  ...  smart_17_raw  smart_18_raw\n",
              "0            0          108  ...             0        654690\n",
              "1            0          108  ...             0        654690\n",
              "2     54551400            0  ...             0        654313\n",
              "3     54551400            0  ...             0        654313\n",
              "4            0          104  ...             1        655582\n",
              "\n",
              "[5 rows x 17 columns]"
            ]
          },
          "metadata": {
            "tags": []
          },
          "execution_count": 11
        }
      ]
    },
    {
      "cell_type": "code",
      "metadata": {
        "id": "I_9JUZUUiAdz",
        "colab_type": "code",
        "colab": {
          "base_uri": "https://localhost:8080/",
          "height": 204
        },
        "outputId": "a1c16432-2e8c-4961-e3c1-1d574453979a"
      },
      "source": [
        "Y.head(10)"
      ],
      "execution_count": 12,
      "outputs": [
        {
          "output_type": "execute_result",
          "data": {
            "text/plain": [
              "0    0\n",
              "1    0\n",
              "2    0\n",
              "3    0\n",
              "4    0\n",
              "5    0\n",
              "6    0\n",
              "7    0\n",
              "8    0\n",
              "9    0\n",
              "Name: failure, dtype: int64"
            ]
          },
          "metadata": {
            "tags": []
          },
          "execution_count": 12
        }
      ]
    },
    {
      "cell_type": "code",
      "metadata": {
        "id": "zcnHqFraiAd7",
        "colab_type": "code",
        "colab": {}
      },
      "source": [
        "# split data into train and test sets\n",
        "seed = 20\n",
        "test_size = 0.33\n",
        "X_train, X_test, y_train, y_test = train_test_split(X, Y, test_size=test_size, random_state=seed)"
      ],
      "execution_count": 0,
      "outputs": []
    },
    {
      "cell_type": "code",
      "metadata": {
        "id": "ZZl-GpDFiAeG",
        "colab_type": "code",
        "colab": {
          "base_uri": "https://localhost:8080/",
          "height": 119
        },
        "outputId": "81ab060a-d6f8-47a6-cc72-f870cba12ccc"
      },
      "source": [
        "# fit model no training data\n",
        "model = XGBClassifier()\n",
        "model.fit(X_train, y_train)"
      ],
      "execution_count": 14,
      "outputs": [
        {
          "output_type": "execute_result",
          "data": {
            "text/plain": [
              "XGBClassifier(base_score=0.5, booster='gbtree', colsample_bylevel=1,\n",
              "       colsample_bytree=1, gamma=0, learning_rate=0.1, max_delta_step=0,\n",
              "       max_depth=3, min_child_weight=1, missing=None, n_estimators=100,\n",
              "       n_jobs=1, nthread=None, objective='binary:logistic', random_state=0,\n",
              "       reg_alpha=0, reg_lambda=1, scale_pos_weight=1, seed=None,\n",
              "       silent=True, subsample=1)"
            ]
          },
          "metadata": {
            "tags": []
          },
          "execution_count": 14
        }
      ]
    },
    {
      "cell_type": "markdown",
      "metadata": {
        "id": "gavIyubNoMQQ",
        "colab_type": "text"
      },
      "source": [
        "#XGBoost is chosen because it is an ensemble approach with trees which makes it robust to outliers"
      ]
    },
    {
      "cell_type": "code",
      "metadata": {
        "id": "67ujYUGziAeW",
        "colab_type": "code",
        "colab": {}
      },
      "source": [
        "# make predictions for test data\n",
        "y_pred = model.predict(X_test)\n",
        "predictions = [round(value) for value in y_pred]"
      ],
      "execution_count": 0,
      "outputs": []
    },
    {
      "cell_type": "code",
      "metadata": {
        "id": "7wCKcMiqiAel",
        "colab_type": "code",
        "colab": {
          "base_uri": "https://localhost:8080/",
          "height": 34
        },
        "outputId": "5b701da1-9926-443f-c21c-71315093707f"
      },
      "source": [
        "# evaluate predictions\n",
        "accuracy = accuracy_score(y_test, predictions)\n",
        "print(\"Accuracy: %.2f%%\" % (accuracy * 100.0))\n"
      ],
      "execution_count": 16,
      "outputs": [
        {
          "output_type": "stream",
          "text": [
            "Accuracy: 100.00%\n"
          ],
          "name": "stdout"
        }
      ]
    },
    {
      "cell_type": "markdown",
      "metadata": {
        "id": "iQ6N_H4coeCs",
        "colab_type": "text"
      },
      "source": [
        "#the data needn't be normalised as it already gives out 100% accuracy; avoidable tasks can always be avoided"
      ]
    },
    {
      "cell_type": "code",
      "metadata": {
        "id": "LASfubZEiAev",
        "colab_type": "code",
        "colab": {
          "base_uri": "https://localhost:8080/",
          "height": 170
        },
        "outputId": "ac467c85-5936-4f6a-8d00-a45dbcc6bb46"
      },
      "source": [
        "#class wise accuracy\n",
        "target_names = ['class 0', 'class 1']\n",
        "print(classification_report(y_test, predictions, target_names=target_names))"
      ],
      "execution_count": 17,
      "outputs": [
        {
          "output_type": "stream",
          "text": [
            "              precision    recall  f1-score   support\n",
            "\n",
            "     class 0       1.00      1.00      1.00     43568\n",
            "     class 1       1.00      0.97      0.98        66\n",
            "\n",
            "   micro avg       1.00      1.00      1.00     43634\n",
            "   macro avg       1.00      0.98      0.99     43634\n",
            "weighted avg       1.00      1.00      1.00     43634\n",
            "\n"
          ],
          "name": "stdout"
        }
      ]
    },
    {
      "cell_type": "markdown",
      "metadata": {
        "id": "GUHqrpwEoqMR",
        "colab_type": "text"
      },
      "source": [
        "#The overall accuracy can be misleading. But the individual class accuracy is also equally good. Hence model works fine"
      ]
    },
    {
      "cell_type": "code",
      "metadata": {
        "id": "hbpeZ9AyiAe2",
        "colab_type": "code",
        "colab": {
          "base_uri": "https://localhost:8080/",
          "height": 269
        },
        "outputId": "6cdb0644-697e-4a0e-b731-32f43c56485d"
      },
      "source": [
        "from matplotlib import pyplot\n",
        "# feature importance plot\n",
        "pyplot.bar(range(len(model.feature_importances_)), model.feature_importances_)\n",
        "pyplot.show()"
      ],
      "execution_count": 18,
      "outputs": [
        {
          "output_type": "display_data",
          "data": {
            "image/png": "[encoded data removed]",
            "text/plain": [
              "<Figure size 432x288 with 1 Axes>"
            ]
          },
          "metadata": {
            "tags": []
          }
        }
      ]
    },
    {
      "cell_type": "markdown",
      "metadata": {
        "id": "B9CfioEBqOo1",
        "colab_type": "text"
      },
      "source": [
        "#if we remove the columns with highest importance then the accuracy should drop; this plainly for the purpose of cross checking"
      ]
    },
    {
      "cell_type": "code",
      "metadata": {
        "id": "3Jbe78i-qNt5",
        "colab_type": "code",
        "colab": {}
      },
      "source": [
        "# split data into X and y\n",
        "X = dataset.iloc[:,9:21] \n",
        "Y = dataset.iloc[:,0]"
      ],
      "execution_count": 0,
      "outputs": []
    },
    {
      "cell_type": "code",
      "metadata": {
        "id": "984thWbGqrpl",
        "colab_type": "code",
        "colab": {
          "base_uri": "https://localhost:8080/",
          "height": 258
        },
        "outputId": "6932780c-9384-4507-f3b4-bf90f37fd564"
      },
      "source": [
        "X.head()"
      ],
      "execution_count": 20,
      "outputs": [
        {
          "output_type": "execute_result",
          "data": {
            "text/html": [
              "<div>\n",
              "<style scoped>\n",
              "    .dataframe tbody tr th:only-of-type {\n",
              "        vertical-align: middle;\n",
              "    }\n",
              "\n",
              "    .dataframe tbody tr th {\n",
              "        vertical-align: top;\n",
              "    }\n",
              "\n",
              "    .dataframe thead th {\n",
              "        text-align: right;\n",
              "    }\n",
              "</style>\n",
              "<table border=\"1\" class=\"dataframe\">\n",
              "  <thead>\n",
              "    <tr style=\"text-align: right;\">\n",
              "      <th></th>\n",
              "      <th>smart_7_raw</th>\n",
              "      <th>smart_8_raw</th>\n",
              "      <th>smart_9_raw</th>\n",
              "      <th>smart_10_raw</th>\n",
              "      <th>smart_11_raw</th>\n",
              "      <th>smart_12_raw</th>\n",
              "      <th>smart_13_raw</th>\n",
              "      <th>smart_15_raw</th>\n",
              "      <th>smart_22_raw</th>\n",
              "      <th>smart_16_raw</th>\n",
              "      <th>smart_17_raw</th>\n",
              "      <th>smart_18_raw</th>\n",
              "    </tr>\n",
              "  </thead>\n",
              "  <tbody>\n",
              "    <tr>\n",
              "      <th>0</th>\n",
              "      <td>0.000000e+00</td>\n",
              "      <td>37</td>\n",
              "      <td>27929</td>\n",
              "      <td>0</td>\n",
              "      <td>0</td>\n",
              "      <td>14</td>\n",
              "      <td>0</td>\n",
              "      <td>0</td>\n",
              "      <td>0</td>\n",
              "      <td>5</td>\n",
              "      <td>0</td>\n",
              "      <td>654690</td>\n",
              "    </tr>\n",
              "    <tr>\n",
              "      <th>1</th>\n",
              "      <td>0.000000e+00</td>\n",
              "      <td>37</td>\n",
              "      <td>27929</td>\n",
              "      <td>0</td>\n",
              "      <td>0</td>\n",
              "      <td>14</td>\n",
              "      <td>0</td>\n",
              "      <td>0</td>\n",
              "      <td>0</td>\n",
              "      <td>5</td>\n",
              "      <td>0</td>\n",
              "      <td>654690</td>\n",
              "    </tr>\n",
              "    <tr>\n",
              "      <th>2</th>\n",
              "      <td>1.112537e-308</td>\n",
              "      <td>0</td>\n",
              "      <td>411</td>\n",
              "      <td>0</td>\n",
              "      <td>0</td>\n",
              "      <td>4</td>\n",
              "      <td>0</td>\n",
              "      <td>0</td>\n",
              "      <td>0</td>\n",
              "      <td>4</td>\n",
              "      <td>0</td>\n",
              "      <td>654313</td>\n",
              "    </tr>\n",
              "    <tr>\n",
              "      <th>3</th>\n",
              "      <td>1.112537e-308</td>\n",
              "      <td>0</td>\n",
              "      <td>411</td>\n",
              "      <td>0</td>\n",
              "      <td>0</td>\n",
              "      <td>4</td>\n",
              "      <td>0</td>\n",
              "      <td>0</td>\n",
              "      <td>0</td>\n",
              "      <td>4</td>\n",
              "      <td>0</td>\n",
              "      <td>654313</td>\n",
              "    </tr>\n",
              "    <tr>\n",
              "      <th>4</th>\n",
              "      <td>0.000000e+00</td>\n",
              "      <td>37</td>\n",
              "      <td>27492</td>\n",
              "      <td>0</td>\n",
              "      <td>0</td>\n",
              "      <td>18</td>\n",
              "      <td>0</td>\n",
              "      <td>0</td>\n",
              "      <td>0</td>\n",
              "      <td>8</td>\n",
              "      <td>1</td>\n",
              "      <td>655582</td>\n",
              "    </tr>\n",
              "  </tbody>\n",
              "</table>\n",
              "</div>"
            ],
            "text/plain": [
              "     smart_7_raw  smart_8_raw  ...  smart_17_raw  smart_18_raw\n",
              "0   0.000000e+00           37  ...             0        654690\n",
              "1   0.000000e+00           37  ...             0        654690\n",
              "2  1.112537e-308            0  ...             0        654313\n",
              "3  1.112537e-308            0  ...             0        654313\n",
              "4   0.000000e+00           37  ...             1        655582\n",
              "\n",
              "[5 rows x 12 columns]"
            ]
          },
          "metadata": {
            "tags": []
          },
          "execution_count": 20
        }
      ]
    },
    {
      "cell_type": "code",
      "metadata": {
        "id": "h5nbvvSWqxSh",
        "colab_type": "code",
        "colab": {}
      },
      "source": [
        "# split data into train and test sets\n",
        "seed = 20\n",
        "test_size = 0.33\n",
        "X_train, X_test, y_train, y_test = train_test_split(X, Y, test_size=test_size, random_state=seed)"
      ],
      "execution_count": 0,
      "outputs": []
    },
    {
      "cell_type": "code",
      "metadata": {
        "id": "AlxWsscDrWOG",
        "colab_type": "code",
        "colab": {
          "base_uri": "https://localhost:8080/",
          "height": 119
        },
        "outputId": "604ac94c-b3a6-481b-aee2-2352d584c2b7"
      },
      "source": [
        "# fit model no training data\n",
        "model = XGBClassifier()\n",
        "model.fit(X_train, y_train)"
      ],
      "execution_count": 29,
      "outputs": [
        {
          "output_type": "execute_result",
          "data": {
            "text/plain": [
              "XGBClassifier(base_score=0.5, booster='gbtree', colsample_bylevel=1,\n",
              "       colsample_bytree=1, gamma=0, learning_rate=0.1, max_delta_step=0,\n",
              "       max_depth=3, min_child_weight=1, missing=None, n_estimators=100,\n",
              "       n_jobs=1, nthread=None, objective='binary:logistic', random_state=0,\n",
              "       reg_alpha=0, reg_lambda=1, scale_pos_weight=1, seed=None,\n",
              "       silent=True, subsample=1)"
            ]
          },
          "metadata": {
            "tags": []
          },
          "execution_count": 29
        }
      ]
    },
    {
      "cell_type": "code",
      "metadata": {
        "id": "x_eGvtR3rWla",
        "colab_type": "code",
        "colab": {}
      },
      "source": [
        "# make predictions for test data\n",
        "y_pred = model.predict(X_test)\n",
        "predictions = [value for value in y_pred]"
      ],
      "execution_count": 0,
      "outputs": []
    },
    {
      "cell_type": "code",
      "metadata": {
        "id": "fsYF5it4rzn8",
        "colab_type": "code",
        "colab": {
          "base_uri": "https://localhost:8080/",
          "height": 34
        },
        "outputId": "6bff2641-b789-46af-aba6-684017bc4b6e"
      },
      "source": [
        "# evaluate predictions\n",
        "accuracy = accuracy_score(y_test, predictions)\n",
        "print(\"Accuracy: %.2f%%\" % (accuracy * 100.0))\n"
      ],
      "execution_count": 31,
      "outputs": [
        {
          "output_type": "stream",
          "text": [
            "Accuracy: 99.85%\n"
          ],
          "name": "stdout"
        }
      ]
    },
    {
      "cell_type": "markdown",
      "metadata": {
        "id": "jJ5_xbDJsmXZ",
        "colab_type": "text"
      },
      "source": [
        "# The accuracy drops confirming our assumption. IF we look at the precision and recall of Class 1, here it has become '0' now.But there is only minor drop in accuracy, which due to highly imbalanced data. So the model wass trained perfectly fine earlier. we can also train with less no of dependent variables. Since data is not huge, such extra effort is unwanted"
      ]
    },
    {
      "cell_type": "code",
      "metadata": {
        "id": "7a4qlEQRr9NZ",
        "colab_type": "code",
        "colab": {
          "base_uri": "https://localhost:8080/",
          "height": 292
        },
        "outputId": "bb1fab18-446b-4779-ecde-bcc9ef452bd1"
      },
      "source": [
        "#class wise accuracy\n",
        "target_names = ['class 0', 'class 1']\n",
        "print(classification_report(y_test, predictions, target_names=target_names))"
      ],
      "execution_count": 32,
      "outputs": [
        {
          "output_type": "stream",
          "text": [
            "              precision    recall  f1-score   support\n",
            "\n",
            "     class 0       1.00      1.00      1.00     43568\n",
            "     class 1       0.00      0.00      0.00        66\n",
            "\n",
            "   micro avg       1.00      1.00      1.00     43634\n",
            "   macro avg       0.50      0.50      0.50     43634\n",
            "weighted avg       1.00      1.00      1.00     43634\n",
            "\n"
          ],
          "name": "stdout"
        },
        {
          "output_type": "stream",
          "text": [
            "/usr/local/lib/python3.6/dist-packages/sklearn/metrics/classification.py:1143: UndefinedMetricWarning: Precision and F-score are ill-defined and being set to 0.0 in labels with no predicted samples.\n",
            "  'precision', 'predicted', average, warn_for)\n",
            "/usr/local/lib/python3.6/dist-packages/sklearn/metrics/classification.py:1143: UndefinedMetricWarning: Precision and F-score are ill-defined and being set to 0.0 in labels with no predicted samples.\n",
            "  'precision', 'predicted', average, warn_for)\n",
            "/usr/local/lib/python3.6/dist-packages/sklearn/metrics/classification.py:1143: UndefinedMetricWarning: Precision and F-score are ill-defined and being set to 0.0 in labels with no predicted samples.\n",
            "  'precision', 'predicted', average, warn_for)\n"
          ],
          "name": "stderr"
        }
      ]
    },
    {
      "cell_type": "markdown",
      "metadata": {
        "id": "VqD_m8TvtCjI",
        "colab_type": "text"
      },
      "source": [
        "#Error Analysis"
      ]
    },
    {
      "cell_type": "code",
      "metadata": {
        "id": "dfhGhZceiAeO",
        "colab_type": "code",
        "colab": {
          "base_uri": "https://localhost:8080/",
          "height": 136
        },
        "outputId": "d7e413cf-7795-4c04-b4eb-6c3f5bfe61f2"
      },
      "source": [
        "prob_test = model.predict_proba(X_test)\n",
        "prob_test"
      ],
      "execution_count": 33,
      "outputs": [
        {
          "output_type": "execute_result",
          "data": {
            "text/plain": [
              "array([[9.9826974e-01, 1.7302871e-03],\n",
              "       [9.9912226e-01, 8.7776256e-04],\n",
              "       [9.9874240e-01, 1.2576059e-03],\n",
              "       ...,\n",
              "       [9.9973398e-01, 2.6599586e-04],\n",
              "       [9.9895054e-01, 1.0494771e-03],\n",
              "       [9.9973398e-01, 2.6599586e-04]], dtype=float32)"
            ]
          },
          "metadata": {
            "tags": []
          },
          "execution_count": 33
        }
      ]
    },
    {
      "cell_type": "code",
      "metadata": {
        "id": "ASg_3uQaiAeb",
        "colab_type": "code",
        "colab": {
          "base_uri": "https://localhost:8080/",
          "height": 68
        },
        "outputId": "d41587f9-59a8-4cb8-ec37-6ebea4aca72f"
      },
      "source": [
        "print(prob_test[:,0].shape)\n",
        "print(y_test.shape)\n",
        "print(y_pred.shape)"
      ],
      "execution_count": 34,
      "outputs": [
        {
          "output_type": "stream",
          "text": [
            "(43634,)\n",
            "(43634,)\n",
            "(43634,)\n"
          ],
          "name": "stdout"
        }
      ]
    },
    {
      "cell_type": "code",
      "metadata": {
        "id": "_w60M1RtiAe9",
        "colab_type": "code",
        "colab": {}
      },
      "source": [
        "#error analysis\n",
        "import numpy as np\n",
        "import pandas as pd\n",
        "prob_tests = pd.DataFrame({\"prob_test\":prob_test[:,0], \"y_test\": y_test, \"y_pred\":y_pred}, columns=['prob_test', 'y_test', 'y_pred'])"
      ],
      "execution_count": 0,
      "outputs": []
    },
    {
      "cell_type": "markdown",
      "metadata": {
        "id": "GJC8KGn8tqog",
        "colab_type": "text"
      },
      "source": [
        "#To understand the models performs worse on which \"model\" & corresponding \"serial number\" to understand better "
      ]
    },
    {
      "cell_type": "code",
      "metadata": {
        "id": "TQUTIu85iAeB",
        "colab_type": "code",
        "colab": {}
      },
      "source": [
        "X_train_xtra = X_train.iloc[:,0:3]\n",
        "X_train = X_train.iloc[:,3:21]\n",
        "X_test_xtra = X_test.iloc[:,0:3]\n",
        "X_test = X_test.iloc[:,3:21]"
      ],
      "execution_count": 0,
      "outputs": []
    },
    {
      "cell_type": "code",
      "metadata": {
        "id": "LgWW5bLBiAfG",
        "colab_type": "code",
        "colab": {}
      },
      "source": [
        "new = pd.concat([prob_tests,X_test_xtra], axis=1)\n",
        "new_result = pd.concat([new, X_test],axis=1)\n",
        "new_result.to_csv(\"final_result.csv\")"
      ],
      "execution_count": 0,
      "outputs": []
    },
    {
      "cell_type": "markdown",
      "metadata": {
        "id": "ocsrOTURuFiv",
        "colab_type": "text"
      },
      "source": [
        "#Manual scrutinizing shows that the performs worse on ST4000DM000 largely due to the number instances it has in the data. Nothing more can be done here. "
      ]
    }
  ]
}
